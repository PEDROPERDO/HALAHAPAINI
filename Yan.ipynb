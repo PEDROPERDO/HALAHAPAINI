{
  "nbformat": 4,
  "nbformat_minor": 0,
  "metadata": {
    "colab": {
      "provenance": []
    },
    "kernelspec": {
      "name": "python3",
      "display_name": "Python 3"
    },
    "language_info": {
      "name": "python"
    }
  },
  "cells": [
    {
      "cell_type": "code",
      "execution_count": 1,
      "metadata": {
        "id": "B70Mq3-PLFUV"
      },
      "outputs": [],
      "source": [
        "import requests, urllib\n",
        "\n",
        "mrturl = \"https://jakartamrt.co.id/id/val/stasiuns\"\n",
        "\n",
        "opener = requests.get(mrturl)\n",
        "\n",
        "opener = opener.json()"
      ]
    },
    {
      "cell_type": "code",
      "source": [
        "urler = \"https://raw.githubusercontent.com/Kelrite/Air/master/Yan/Helper.py\"\n",
        "\n",
        "urllib.request.urlretrieve(urler, \"utili.py\")"
      ],
      "metadata": {
        "id": "ul9bgDh4LKEK",
        "outputId": "1de14803-9de9-47bb-ab4c-a0923a5e3d07",
        "colab": {
          "base_uri": "https://localhost:8080/"
        }
      },
      "execution_count": 2,
      "outputs": [
        {
          "output_type": "execute_result",
          "data": {
            "text/plain": [
              "('utili.py', <http.client.HTTPMessage at 0x7d9be406ac80>)"
            ]
          },
          "metadata": {},
          "execution_count": 2
        }
      ]
    },
    {
      "cell_type": "code",
      "source": [
        "import utili\n",
        "\n",
        "total = len(opener); total"
      ],
      "metadata": {
        "colab": {
          "base_uri": "https://localhost:8080/"
        },
        "id": "U3bKw58VLMZQ",
        "outputId": "fc2aa0c8-ebd1-4292-e8dd-27abe5a6950e"
      },
      "execution_count": 3,
      "outputs": [
        {
          "output_type": "execute_result",
          "data": {
            "text/plain": [
              "13"
            ]
          },
          "metadata": {},
          "execution_count": 3
        }
      ]
    },
    {
      "cell_type": "code",
      "source": [
        "sample = opener[8]\n",
        "\n",
        "unlock = list(sample.keys())\n",
        "\n",
        "unlock[:7]"
      ],
      "metadata": {
        "colab": {
          "base_uri": "https://localhost:8080/"
        },
        "id": "9i1o5GwaQyw7",
        "outputId": "3342b515-8581-492f-b8b3-9473bf89ba8c"
      },
      "execution_count": 4,
      "outputs": [
        {
          "output_type": "execute_result",
          "data": {
            "text/plain": [
              "['nid', 'title', 'urutan', 'isbig', 'path', 'catatan', 'antarmodas']"
            ]
          },
          "metadata": {},
          "execution_count": 4
        }
      ]
    },
    {
      "cell_type": "code",
      "source": [
        "unlock[7:11]"
      ],
      "metadata": {
        "colab": {
          "base_uri": "https://localhost:8080/"
        },
        "id": "RNWjSNhuQ6Lt",
        "outputId": "bf31139e-dc37-4faa-8d4f-8706ec972887"
      },
      "execution_count": 5,
      "outputs": [
        {
          "output_type": "execute_result",
          "data": {
            "text/plain": [
              "['peta_lokalitas', 'jadwal_lb_biasa', 'jadwal_lb_libur', 'jadwal_hi_biasa']"
            ]
          },
          "metadata": {},
          "execution_count": 5
        }
      ]
    },
    {
      "cell_type": "code",
      "source": [
        "unlock[11:]"
      ],
      "metadata": {
        "colab": {
          "base_uri": "https://localhost:8080/"
        },
        "id": "hJXhyOQxQ8B7",
        "outputId": "23294886-7d3b-407a-8cb6-0d628e5d5faa"
      },
      "execution_count": 6,
      "outputs": [
        {
          "output_type": "execute_result",
          "data": {
            "text/plain": [
              "['jadwal_hi_libur', 'banner', 'retails', 'estimasi', 'fasilitas']"
            ]
          },
          "metadata": {},
          "execution_count": 6
        }
      ]
    },
    {
      "cell_type": "markdown",
      "source": [
        "#### ```Total Big Statiun```"
      ],
      "metadata": {
        "id": "0A2-42CCLSIm"
      }
    },
    {
      "cell_type": "code",
      "source": [
        "outsize = [int(opener[i][\"isbig\"]) for i in range(total)]\n",
        "\n",
        "outsize = sum(outsize)\n",
        "\n",
        "outsize"
      ],
      "metadata": {
        "colab": {
          "base_uri": "https://localhost:8080/"
        },
        "id": "a1UK3-6yLWZ5",
        "outputId": "e5cbf072-b74e-4927-bd2b-d59f32747142"
      },
      "execution_count": 7,
      "outputs": [
        {
          "output_type": "execute_result",
          "data": {
            "text/plain": [
              "3"
            ]
          },
          "metadata": {},
          "execution_count": 7
        }
      ]
    },
    {
      "cell_type": "markdown",
      "source": [
        "#### ```How Many Modes of Transportation Pass Through This Station ?```"
      ],
      "metadata": {
        "id": "cRrPn_z_LYBm"
      }
    },
    {
      "cell_type": "code",
      "source": [
        "totalmodas = {}\n",
        "\n",
        "for i in range(total):\n",
        "\n",
        "  stat = opener[i][\"title\"]\n",
        "\n",
        "  totil = utili.motol(opener[i][\"antarmodas\"])[1]\n",
        "\n",
        "  totalmodas[stat] = totil\n",
        "\n",
        "totalmodas = utili.urutan(totalmodas)\n",
        "\n",
        "utili.limite(totalmodas, 1)"
      ],
      "metadata": {
        "colab": {
          "base_uri": "https://localhost:8080/"
        },
        "id": "EKtYq6T5Lf_x",
        "outputId": "547d655f-f5ff-4e3e-e8f9-f62219eef052"
      },
      "execution_count": 8,
      "outputs": [
        {
          "output_type": "execute_result",
          "data": {
            "text/plain": [
              "{'Stasiun Blok M BCA': 81}"
            ]
          },
          "metadata": {},
          "execution_count": 8
        }
      ]
    },
    {
      "cell_type": "markdown",
      "source": [
        "```Single```"
      ],
      "metadata": {
        "id": "RPvZQSJGOBMD"
      }
    },
    {
      "cell_type": "code",
      "source": [
        "sample = utili.motol(opener[8][\"antarmodas\"])[1]\n",
        "\n",
        "sample"
      ],
      "metadata": {
        "id": "F5J6WQ2RN95T",
        "outputId": "910fe3d1-83a2-4304-879b-9247365d799e",
        "colab": {
          "base_uri": "https://localhost:8080/"
        }
      },
      "execution_count": 9,
      "outputs": [
        {
          "output_type": "execute_result",
          "data": {
            "text/plain": [
              "52"
            ]
          },
          "metadata": {},
          "execution_count": 9
        }
      ]
    },
    {
      "cell_type": "markdown",
      "source": [
        "#### ```How Many Transportation Pass Through This Station ?```"
      ],
      "metadata": {
        "id": "TZZYHlWUNwlb"
      }
    },
    {
      "cell_type": "code",
      "source": [
        "totaler = {}\n",
        "\n",
        "for i in range(total):\n",
        "\n",
        "  stat = opener[i][\"title\"]\n",
        "\n",
        "  totil = utili.motol(opener[i][\"antarmodas\"])[0]\n",
        "\n",
        "  totaler[stat] = len(totil)\n",
        "\n",
        "totaler = utili.urutan(totaler)\n",
        "\n",
        "utili.limite(totaler, 1)"
      ],
      "metadata": {
        "colab": {
          "base_uri": "https://localhost:8080/"
        },
        "id": "unGVDf3fNz4d",
        "outputId": "cc533829-a574-4145-a727-9019b7210b7c"
      },
      "execution_count": 10,
      "outputs": [
        {
          "output_type": "execute_result",
          "data": {
            "text/plain": [
              "{'Stasiun Senayan Mastercard': 16}"
            ]
          },
          "metadata": {},
          "execution_count": 10
        }
      ]
    },
    {
      "cell_type": "markdown",
      "source": [
        "```Single```"
      ],
      "metadata": {
        "id": "dm-NyaDsNggG"
      }
    },
    {
      "cell_type": "code",
      "source": [
        "sample = utili.motol(opener[8][\"antarmodas\"])[0]\n",
        "\n",
        "len(sample)"
      ],
      "metadata": {
        "id": "gOPJdYKpNh_-",
        "outputId": "4704ad6d-3831-4a17-9438-b7428e6cecf2",
        "colab": {
          "base_uri": "https://localhost:8080/"
        }
      },
      "execution_count": 11,
      "outputs": [
        {
          "output_type": "execute_result",
          "data": {
            "text/plain": [
              "16"
            ]
          },
          "metadata": {},
          "execution_count": 11
        }
      ]
    },
    {
      "cell_type": "code",
      "source": [
        "sample[:6]"
      ],
      "metadata": {
        "id": "Z_C0803tN6I_",
        "outputId": "81807893-f5e8-4368-b5bb-d925fdafeb66",
        "colab": {
          "base_uri": "https://localhost:8080/"
        }
      },
      "execution_count": 12,
      "outputs": [
        {
          "output_type": "execute_result",
          "data": {
            "text/plain": [
              "['Transjakarta', 'Metromini', 'APB', 'PPD', 'Kopaja', 'Mayasari Bakti']"
            ]
          },
          "metadata": {},
          "execution_count": 12
        }
      ]
    },
    {
      "cell_type": "code",
      "source": [
        "sample[6:13]"
      ],
      "metadata": {
        "id": "hE9eR3KBNvng",
        "outputId": "95e7278f-3f07-4889-f996-7c2e7c9a03c3",
        "colab": {
          "base_uri": "https://localhost:8080/"
        }
      },
      "execution_count": 13,
      "outputs": [
        {
          "output_type": "execute_result",
          "data": {
            "text/plain": [
              "['Bianglala', 'Steady Safe', 'Himpurna', 'KWK', 'Jasa Utama', 'Tasima', 'DSU']"
            ]
          },
          "metadata": {},
          "execution_count": 13
        }
      ]
    },
    {
      "cell_type": "code",
      "source": [
        "sample[13:]"
      ],
      "metadata": {
        "id": "gaPiPYgaNxkL",
        "outputId": "9d48a06d-c197-4835-b645-8aa6478d4cf3",
        "colab": {
          "base_uri": "https://localhost:8080/"
        }
      },
      "execution_count": 14,
      "outputs": [
        {
          "output_type": "execute_result",
          "data": {
            "text/plain": [
              "['ARH', 'MB', 'SJML']"
            ]
          },
          "metadata": {},
          "execution_count": 14
        }
      ]
    },
    {
      "cell_type": "markdown",
      "source": [
        "#### ```Minimum Total Transportation Available and Which Statiun```"
      ],
      "metadata": {
        "id": "_lqC2nycOHDa"
      }
    },
    {
      "cell_type": "code",
      "source": [
        "totali = list(totaler.values())\n",
        "\n",
        "min(totali)"
      ],
      "metadata": {
        "colab": {
          "base_uri": "https://localhost:8080/"
        },
        "id": "rsMVputnOlWj",
        "outputId": "5e7e9a2a-3cff-418a-abfb-5eee000ae837"
      },
      "execution_count": 15,
      "outputs": [
        {
          "output_type": "execute_result",
          "data": {
            "text/plain": [
              "0"
            ]
          },
          "metadata": {},
          "execution_count": 15
        }
      ]
    },
    {
      "cell_type": "code",
      "source": [
        "lower = [i for i, j in totaler.items() if j == min(totali)]\n",
        "\n",
        "lower = \", \".join(lower)\n",
        "\n",
        "lower"
      ],
      "metadata": {
        "colab": {
          "base_uri": "https://localhost:8080/",
          "height": 35
        },
        "id": "_z8y-nlnPMiw",
        "outputId": "e7930200-4839-4a1c-c59c-4a14ecc264a5"
      },
      "execution_count": 16,
      "outputs": [
        {
          "output_type": "execute_result",
          "data": {
            "text/plain": [
              "'Stasiun Cipete Raya, Stasiun Haji Nawi'"
            ],
            "application/vnd.google.colaboratory.intrinsic+json": {
              "type": "string"
            }
          },
          "metadata": {},
          "execution_count": 16
        }
      ]
    },
    {
      "cell_type": "markdown",
      "source": [
        "#### ```Maximum Total Transportation Available and Which Statiun```"
      ],
      "metadata": {
        "id": "k2TlEPUJOf7R"
      }
    },
    {
      "cell_type": "code",
      "source": [
        "totali = list(totaler.values())\n",
        "\n",
        "max(totali)"
      ],
      "metadata": {
        "colab": {
          "base_uri": "https://localhost:8080/"
        },
        "id": "8E5MNX1xPJqr",
        "outputId": "69844e8d-5b8c-4e8e-bd5c-d6fdc53030d7"
      },
      "execution_count": 17,
      "outputs": [
        {
          "output_type": "execute_result",
          "data": {
            "text/plain": [
              "16"
            ]
          },
          "metadata": {},
          "execution_count": 17
        }
      ]
    },
    {
      "cell_type": "code",
      "source": [
        "upper = [i for i, j in totaler.items() if j == max(totali)]\n",
        "\n",
        "maxer = upper[:3]\n",
        "\n",
        "result = \", \".join(maxer)\n",
        "\n",
        "result"
      ],
      "metadata": {
        "colab": {
          "base_uri": "https://localhost:8080/",
          "height": 35
        },
        "id": "5fCerFr4PXE2",
        "outputId": "c5e9044c-4ef9-4108-f184-e4e998b90011"
      },
      "execution_count": 18,
      "outputs": [
        {
          "output_type": "execute_result",
          "data": {
            "text/plain": [
              "'Stasiun Senayan Mastercard, Stasiun Istora Mandiri, Stasiun Bendungan Hilir'"
            ],
            "application/vnd.google.colaboratory.intrinsic+json": {
              "type": "string"
            }
          },
          "metadata": {},
          "execution_count": 18
        }
      ]
    },
    {
      "cell_type": "code",
      "source": [
        "maxer = upper[3:]\n",
        "\n",
        "result = \", \".join(maxer)\n",
        "\n",
        "result"
      ],
      "metadata": {
        "colab": {
          "base_uri": "https://localhost:8080/",
          "height": 35
        },
        "id": "-8xMYGB1PciN",
        "outputId": "2609b404-53f6-49f9-b8f1-c5e8b0542277"
      },
      "execution_count": 19,
      "outputs": [
        {
          "output_type": "execute_result",
          "data": {
            "text/plain": [
              "'Stasiun Setiabudi Astra, Stasiun Dukuh Atas BNI, Stasiun Bundaran HI'"
            ],
            "application/vnd.google.colaboratory.intrinsic+json": {
              "type": "string"
            }
          },
          "metadata": {},
          "execution_count": 19
        }
      ]
    },
    {
      "cell_type": "markdown",
      "source": [
        "#### ```Total Transportation All Statiun```"
      ],
      "metadata": {
        "id": "UbqM5a0SLrdB"
      }
    },
    {
      "cell_type": "code",
      "source": [
        "totalfinal = []\n",
        "\n",
        "for stat in range(8):\n",
        "\n",
        "  antir = opener[stat][\"antarmodas\"]\n",
        "\n",
        "  if antir and \"dan\" in antir:\n",
        "\n",
        "    antir = antir.replace(\" dan \", \", \")\n",
        "\n",
        "  antir = utili.ansplit(antir)\n",
        "\n",
        "  title = utili.replator(utili.titler(antir))\n",
        "\n",
        "  totalfinal.extend(title)\n",
        "\n",
        "totalfinal = list(set(totalfinal))\n",
        "\n",
        "len(totalfinal)"
      ],
      "metadata": {
        "id": "S0El0AbPLz26",
        "outputId": "27de4ca8-133e-4091-f052-828f570058d8",
        "colab": {
          "base_uri": "https://localhost:8080/"
        }
      },
      "execution_count": 20,
      "outputs": [
        {
          "output_type": "execute_result",
          "data": {
            "text/plain": [
              "20"
            ]
          },
          "metadata": {},
          "execution_count": 20
        }
      ]
    },
    {
      "cell_type": "code",
      "source": [
        "totalfinal[:5]"
      ],
      "metadata": {
        "id": "YZyjavODMBTg",
        "outputId": "de402ad1-a36e-4506-cda2-4795f97a46c3",
        "colab": {
          "base_uri": "https://localhost:8080/"
        }
      },
      "execution_count": 21,
      "outputs": [
        {
          "output_type": "execute_result",
          "data": {
            "text/plain": [
              "['Jasa Utama', 'MB', 'Kopaja', 'Sinar Jaya ML', 'Steady Safe']"
            ]
          },
          "metadata": {},
          "execution_count": 21
        }
      ]
    },
    {
      "cell_type": "code",
      "source": [
        "totalfinal[5:10]"
      ],
      "metadata": {
        "id": "LiN43mqRMBwP",
        "outputId": "0406d791-a179-4d02-cdf1-498a39b79115",
        "colab": {
          "base_uri": "https://localhost:8080/"
        }
      },
      "execution_count": 22,
      "outputs": [
        {
          "output_type": "execute_result",
          "data": {
            "text/plain": [
              "['Transjakarta', 'Metromini', 'ARH', 'DSU', 'Agung Bhakti']"
            ]
          },
          "metadata": {},
          "execution_count": 22
        }
      ]
    },
    {
      "cell_type": "code",
      "source": [
        "totalfinal[10:16]"
      ],
      "metadata": {
        "id": "XIlcFwHnMEDP",
        "outputId": "bf295e73-d748-439e-88ed-218377b74af2",
        "colab": {
          "base_uri": "https://localhost:8080/"
        }
      },
      "execution_count": 23,
      "outputs": [
        {
          "output_type": "execute_result",
          "data": {
            "text/plain": [
              "['SJML', 'Bianglala', 'PPD', 'Pahala Kencana', 'APB', 'Tasima']"
            ]
          },
          "metadata": {},
          "execution_count": 23
        }
      ]
    },
    {
      "cell_type": "code",
      "source": [
        "totalfinal[16:]"
      ],
      "metadata": {
        "id": "op3_3mlNMJV8",
        "outputId": "fca42829-bbba-422b-9d6d-cf08847d8ebf",
        "colab": {
          "base_uri": "https://localhost:8080/"
        }
      },
      "execution_count": 24,
      "outputs": [
        {
          "output_type": "execute_result",
          "data": {
            "text/plain": [
              "['Himpurna', 'Mayasari Bakti', 'Megah Langgeng', 'KWK']"
            ]
          },
          "metadata": {},
          "execution_count": 24
        }
      ]
    },
    {
      "cell_type": "markdown",
      "source": [
        "### ```Normal Rush Hour (0)```"
      ],
      "metadata": {
        "id": "8reG20zpOs7D"
      }
    },
    {
      "cell_type": "markdown",
      "source": [
        "```Single```"
      ],
      "metadata": {
        "id": "NZRNjSncVIxx"
      }
    },
    {
      "cell_type": "markdown",
      "source": [
        "### ```Normal Rush Hour (1)```"
      ],
      "metadata": {
        "id": "U2MuK9r-Upqq"
      }
    },
    {
      "cell_type": "markdown",
      "source": [
        "```Single```"
      ],
      "metadata": {
        "id": "MhHT8PmJVLOv"
      }
    },
    {
      "cell_type": "markdown",
      "source": [
        "### ```Holiday Rush Hour (0)```"
      ],
      "metadata": {
        "id": "-SZ-yrJuUqw5"
      }
    },
    {
      "cell_type": "markdown",
      "source": [
        "```Single```"
      ],
      "metadata": {
        "id": "7jhquEqvVL7Z"
      }
    },
    {
      "cell_type": "markdown",
      "source": [
        "### ```Holiday Rush Hour (1)```"
      ],
      "metadata": {
        "id": "_g27KVvJUtpO"
      }
    },
    {
      "cell_type": "markdown",
      "source": [
        "```Single```"
      ],
      "metadata": {
        "id": "TPPT3E2RVMcN"
      }
    }
  ]
}